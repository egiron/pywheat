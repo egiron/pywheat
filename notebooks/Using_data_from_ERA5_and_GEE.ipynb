{
 "cells": [
  {
   "cell_type": "markdown",
   "id": "d6e1de99-f2a1-4714-9f89-d0a50494e9f8",
   "metadata": {
    "tags": []
   },
   "source": [
    "# PyWheat\n",
    "\n",
    "Python library for simulation of wheat phenological development, crop growth and yield at large scales.\n",
    "\n",
    "Author:\n",
    "* **Ernesto Giron Echeverry** (Independent Researcher, e.giron.e@gmail.com)\n",
    "\n",
    "Last updated: October 16, 2023\n"
   ]
  },
  {
   "cell_type": "markdown",
   "id": "12bdc152-a459-40f9-9e72-dd6bf16cb7d9",
   "metadata": {},
   "source": [
    "<table class=\"ee-notebook-buttons\" align=\"left\"><td>\n",
    "<a target=\"_blank\"  href=\"https://colab.research.google.com/drive/1jgxcfLBfNNKsijy0EPRO6qXSR3wZKobE?usp=sharing\">\n",
    "    <img src=\"https://www.tensorflow.org/images/colab_logo_32px.png\" /> Run in Google Colab</a>\n",
    "</td><td>\n",
    "<a target=\"_blank\"  href=\n",
    "   \"https://github.com/egiron/pywheat/blob/main/notebooks/Using_data_from_ERA5_and_GEE.ipynb\"><img width=32px src=\"https://www.tensorflow.org/images/GitHub-Mark-32px.png\" /> View source on GitHub</a></td></table>"
   ]
  },
  {
   "cell_type": "code",
   "execution_count": 1,
   "id": "6a684be5-5462-4889-9c3a-4202efac982a",
   "metadata": {},
   "outputs": [],
   "source": [
    "# Install library\n",
    "#!pip install pywheat"
   ]
  },
  {
   "cell_type": "markdown",
   "id": "2726c10d-1fbe-4299-a823-71383927386b",
   "metadata": {},
   "source": [
    "## Load Libraries"
   ]
  },
  {
   "cell_type": "code",
   "execution_count": null,
   "id": "9a4ff99e-aaf2-4bb2-9c62-15086b915f2e",
   "metadata": {},
   "outputs": [],
   "source": [
    "import os, sys, gc\n",
    "import pandas as pd\n",
    "pd.set_option('display.max_columns', None)\n",
    "\n",
    "# Load PyWheat library\n",
    "import pywheat\n",
    "from pywheat.data import satellite\n",
    "from pywheat.pheno import determine_phenology_stage\n",
    "\n",
    "print(pywheat.__version__)\n"
   ]
  },
  {
   "cell_type": "markdown",
   "id": "9c66793c-b7e5-457c-9bec-fe3eb76c5c2b",
   "metadata": {},
   "source": [
    "## Load daily weather data from ERA5 using GEE\n",
    "\n",
    "Using GEE allows you to extract weather data in an easy way from any point of the world."
   ]
  },
  {
   "cell_type": "code",
   "execution_count": null,
   "id": "86359ff1-601f-4d15-ab70-24b43adaba73",
   "metadata": {},
   "outputs": [],
   "source": [
    "# Load GEE libraries and authenticate with your credentials\n",
    "# Further info at https://developers.google.com/earth-engine/guides/access\n",
    "# https://developers.google.com/earth-engine/guides/python_install\n",
    "import ee\n",
    "ee.Authenticate()\n",
    "#ee.Initialize()\n",
    "ee.Initialize(opt_url='https://earthengine-highvolume.googleapis.com')"
   ]
  },
  {
   "cell_type": "code",
   "execution_count": null,
   "id": "5fea5a68-121a-45fb-8478-90f98ec86452",
   "metadata": {},
   "outputs": [],
   "source": [
    "# Using data from ERA5 and GEE\n",
    "# Define the initial parameters for the site\n",
    "sowing_date = '2019-01-28'\n",
    "lng, lat = 83.45, 27.5\n",
    "\n",
    "# Get daily weather data using PyWheat API\n",
    "weather_data = satellite.getERA5(init_dates=[sowing_date], coords=[[lng,lat]],\n",
    "                       agg='DAILY_AGGR', buffer=1, dispFig=True)\n",
    "\n",
    "# re-format or rename columns to match with PyWheat structure\n",
    "weather_data.rename(columns={'date':'DATE','Tmin':'TMIN', 'Tmax':'TMAX'}, inplace=True)\n",
    "weather_data[\"DATE\"] = pd.to_datetime(weather_data[\"DATE\"].astype(str), format='%Y-%m-%d')\n",
    "weather_data = weather_data.sort_values([\"DATE\"]).reset_index(drop=True)\n",
    "\n",
    "weather_data"
   ]
  },
  {
   "cell_type": "markdown",
   "id": "1d5c7726-ac81-4254-9b03-3ca98bbc4161",
   "metadata": {},
   "source": [
    "## Setup initial parameters"
   ]
  },
  {
   "cell_type": "code",
   "execution_count": 3,
   "id": "fe39933a-8f57-409b-89c0-490239e23b54",
   "metadata": {},
   "outputs": [],
   "source": [
    "# Initialization of variables \n",
    "params = dict(\n",
    "    sowing_date = sowing_date, # Sowing date in YYYY-MM-DD\n",
    "    latitude = lat, # Latitude of the site\n",
    "    GDDE = 6.2, # Growing degree days per cm seed depth required for emergence, GDD/cm\n",
    "    VREQ  = 505.0, # Vernalization required for max.development rate (VDays)\n",
    "    PHINT = 95.0, # Phyllochron. A good estimate for PHINT is 95 degree days. This value for PHINT is appropriate except for spring sown wheat in latitudes greater than 30 degrees north and 30 degrees south, in which cases a value for PHINT of 75 degree days is suggested. \n",
    "    P1V = 1.85, # development genetic coefficients, vernalization. 1 for spring type, 5 for winter type\n",
    "    P1D = 3.675, # development genetic coefficients, Photoperiod (1 - 6, low - high sensitive to day length)\n",
    ")\n"
   ]
  },
  {
   "cell_type": "markdown",
   "id": "091e4cd9-fed1-4bf1-8538-6fce0a83a790",
   "metadata": {},
   "source": [
    "**Note**: All the paramters above are given by default except for `sowing_date` and `latitude`. "
   ]
  },
  {
   "cell_type": "markdown",
   "id": "0430a11d-3e99-4b6f-a2e7-f899ddba71e7",
   "metadata": {},
   "source": [
    "## Estimate Phenological stage"
   ]
  },
  {
   "cell_type": "code",
   "execution_count": null,
   "id": "64d8e268-4498-459b-ad3a-60525a05e5d7",
   "metadata": {},
   "outputs": [],
   "source": [
    "%%time\n",
    "\n",
    "growstages = determine_phenology_stage(initparams=params, weather=weather_data, dispDates=True, verbose=False)\n"
   ]
  }
 ],
 "metadata": {
  "kernelspec": {
   "display_name": "Python 3 (ipykernel)",
   "language": "python",
   "name": "python3"
  },
  "language_info": {
   "codemirror_mode": {
    "name": "ipython",
    "version": 3
   },
   "file_extension": ".py",
   "mimetype": "text/x-python",
   "name": "python",
   "nbconvert_exporter": "python",
   "pygments_lexer": "ipython3",
   "version": "3.11.0"
  }
 },
 "nbformat": 4,
 "nbformat_minor": 5
}
